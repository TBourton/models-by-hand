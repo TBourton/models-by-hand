{
 "cells": [
  {
   "cell_type": "code",
   "execution_count": 20,
   "id": "46e9d930-b21c-48b7-bae3-4183415766fe",
   "metadata": {},
   "outputs": [],
   "source": [
    "import numpy as np\n",
    "import tqdm.notebook as tqdm\n",
    "from sklearn.datasets import make_regression\n",
    "\n",
    "import matplotlib.pyplot as plt\n",
    "from sklearn.preprocessing import StandardScaler\n",
    "\n",
    "\n",
    "def reg_log(x, epsilon: float = 1e-5):\n",
    "    \"\"\"Compute a regularised log.\"\"\"\n",
    "    return np.log(x + epsilon)"
   ]
  },
  {
   "cell_type": "markdown",
   "id": "8529c69f-effa-400f-b2cf-a2be58ce0257",
   "metadata": {},
   "source": [
    "# Linear regression\n",
    "\n",
    "Distribution = Normal, Link function = id."
   ]
  },
  {
   "cell_type": "code",
   "execution_count": 179,
   "id": "f282e524-2480-4bb2-b071-26ffc6b94538",
   "metadata": {},
   "outputs": [],
   "source": [
    "def eta(x, beta):\n",
    "    \"\"\"Linear predictors.\n",
    "    \n",
    "    x: (n_samples, n_features)\n",
    "    beta: (n_features, )\n",
    "    \n",
    "    return: (n_samples, )\n",
    "    \n",
    "    \"\"\"\n",
    "    return x @ beta.T\n",
    "    \n",
    "\n",
    "def link(mu):\n",
    "    \"\"\"Link function.\"\"\"\n",
    "    return mu  # Canonical\n",
    "\n",
    "\n",
    "def inverse_link(eta):  # = mu\n",
    "    return eta\n",
    "\n",
    "\n",
    "def minus_log_liklihood(y, mu):\n",
    "    \"\"\"Compute the log loss.\n",
    "\n",
    "    y_true: (n_samples, )\n",
    "    y_pred: (n_samples, )\n",
    "    \"\"\"\n",
    "    sigma2 = 1\n",
    "    alpha = sigma2\n",
    "    theta = mu\n",
    "    # b = (theta * theta) / 2\n",
    "    # c = - (y * y) / (2 * sigma2)\n",
    "    # ll = (y * theta - b) / alpha + c\n",
    "    r = (y - mu)\n",
    "    ll = -(r * r).sum() / len(r)\n",
    "    return -ll\n",
    "\n",
    "\n",
    "def dldbeta(y, x, beta):\n",
    "    dbdtheta = mu = inverse_link(eta(x, beta))\n",
    "    alpha = 1\n",
    "    grad = x.T @ (dbdtheta - y)\n",
    "    return 2 * grad / len(y)"
   ]
  },
  {
   "cell_type": "code",
   "execution_count": 180,
   "id": "e49e7555-8c21-4561-be46-0fe3d7cdd483",
   "metadata": {
    "tags": []
   },
   "outputs": [
    {
     "data": {
      "application/vnd.jupyter.widget-view+json": {
       "model_id": "ae806b7a4a864fa8bc6d785d3578e75e",
       "version_major": 2,
       "version_minor": 0
      },
      "text/plain": [
       "  0%|          | 0/1500 [00:00<?, ?it/s]"
      ]
     },
     "metadata": {},
     "output_type": "display_data"
    },
    {
     "name": "stdout",
     "output_type": "stream",
     "text": [
      "[63.3174265]\n"
     ]
    },
    {
     "data": {
      "image/png": "[encoded data removed]",
      "text/plain": [
       "<Figure size 432x288 with 1 Axes>"
      ]
     },
     "metadata": {
      "needs_background": "light"
     },
     "output_type": "display_data"
    }
   ],
   "source": [
    "def gradient_descent_step(y, x, beta, learning_rate=0.01):\n",
    "    \"\"\"Apply a gradient descent step.\"\"\"\n",
    "    new_beta = beta - learning_rate * dldbeta(y, x, beta)\n",
    "    mu = inverse_link(eta(x, beta))\n",
    "    loss = minus_log_liklihood(y, mu)\n",
    "    \n",
    "    return new_beta, loss\n",
    "\n",
    "\n",
    "def run_gradient_descent(\n",
    "    y, x, beta, learning_rate=0.01, n_steps=1000000\n",
    "):\n",
    "    \"\"\"Run the gradient descent loop.\"\"\"\n",
    "    mu_init = inverse_link(eta(x, beta))\n",
    "    loss_init = minus_log_liklihood(y, mu_init)\n",
    "    loss_dict = {-1: loss_init}\n",
    "    \n",
    "    for i in tqdm.tqdm(range(n_steps)):\n",
    "        beta, loss = gradient_descent_step(y, x, beta, learning_rate=learning_rate)\n",
    "        loss_dict[i] = loss\n",
    "        \n",
    "    return beta, loss_dict\n",
    "\n",
    "\n",
    "x, y = make_regression(n_samples=500, random_state=42, n_features=1, n_informative=1)\n",
    "x = StandardScaler().fit_transform(x)\n",
    "\n",
    "beta = np.zeros(x.shape[-1])\n",
    "\n",
    "\n",
    "final_beta, loss_dict = run_gradient_descent(y, x, beta, n_steps=1500)\n",
    "beta = final_beta\n",
    "print(final_beta)\n",
    "\n",
    "plt.plot(loss_dict.keys(), loss_dict.values())\n",
    "plt.show()\n",
    "plt.close()\n",
    "\n",
    "mu = inverse_link(eta(x, beta))"
   ]
  },
  {
   "cell_type": "code",
   "execution_count": 181,
   "id": "32e6db04-3a7a-46d5-aac9-44b2c7e2b986",
   "metadata": {},
   "outputs": [
    {
     "data": {
      "text/plain": [
       "0.9999513408240027"
      ]
     },
     "execution_count": 181,
     "metadata": {},
     "output_type": "execute_result"
    }
   ],
   "source": [
    "def RSS(*, y_true, y_pred):\n",
    "    residual = y_pred - y_true\n",
    "    return np.dot(residual, residual)\n",
    "\n",
    "\n",
    "def TSS(*, y_true):\n",
    "    x = y_true - np.mean(y_true)\n",
    "    return np.dot(x, x)\n",
    "\n",
    "\n",
    "def R2(*, y_true, y_pred):\n",
    "    return 1 - (RSS(y_true=y_true, y_pred=y_pred) / TSS(y_true=y_true))\n",
    "\n",
    "\n",
    "R2(y_pred=mu, y_true=y)"
   ]
  },
  {
   "cell_type": "code",
   "execution_count": 184,
   "id": "e411799f-4987-43e9-9662-1502bdd90d08",
   "metadata": {},
   "outputs": [
    {
     "data": {
      "text/plain": [
       "<matplotlib.collections.PathCollection at 0x7fa7ed0d3a30>"
      ]
     },
     "execution_count": 184,
     "metadata": {},
     "output_type": "execute_result"
    },
    {
     "data": {
      "image/png": "[encoded data removed]",
      "text/plain": [
       "<Figure size 432x288 with 1 Axes>"
      ]
     },
     "metadata": {
      "needs_background": "light"
     },
     "output_type": "display_data"
    }
   ],
   "source": [
    "plt.scatter(x, y)\n",
    "plt.scatter(x, mu)"
   ]
  },
  {
   "cell_type": "markdown",
   "id": "ff0ef3c8-e16c-4158-bfc3-21fb83fce5e1",
   "metadata": {},
   "source": [
    "# Logistic Regression"
   ]
  },
  {
   "cell_type": "code",
   "execution_count": 235,
   "id": "26964fb7-f17f-4e13-8690-4e3a885373b6",
   "metadata": {},
   "outputs": [],
   "source": [
    "from sklearn.datasets import make_classification\n",
    "from sklearn.metrics import classification_report\n",
    "\n",
    "\n",
    "def reg_log(x, epsilon: float = 1e-5):\n",
    "    \"\"\"Compute a regularised log.\"\"\"\n",
    "    return np.log(x + epsilon)\n",
    "\n",
    "\n",
    "def logit(p):\n",
    "    return reg_log(p) -  reg_log(1 - p)\n",
    "\n",
    "\n",
    "def sigmoid(x):\n",
    "    return 1 / (1 + np.exp(-x))\n",
    "\n",
    "\n",
    "def eta(x, beta):\n",
    "    \"\"\"Linear predictors.\n",
    "    \n",
    "    x: (n_samples, n_features)\n",
    "    beta: (n_features, )\n",
    "    \n",
    "    return: (n_samples, )\n",
    "    \n",
    "    \"\"\"\n",
    "    return x @ beta.T\n",
    "    \n",
    "\n",
    "def link(mu):\n",
    "    \"\"\"Link function.\"\"\"\n",
    "    return logit(mu)  # Canonical\n",
    "\n",
    "\n",
    "def inverse_link(eta):  # = mu\n",
    "    return sigmoid(eta)\n",
    "\n",
    "\n",
    "def minus_log_liklihood(y, mu):\n",
    "    \"\"\"Compute the log loss.\n",
    "\n",
    "    y_true: (n_samples, )\n",
    "    y_pred: (n_samples, )\n",
    "    \"\"\"\n",
    "    alpha = 1\n",
    "    theta = logit(mu)\n",
    "    b = reg_log(1 + np.exp(theta))\n",
    "    c = 0\n",
    "    ll = (y * theta - b) / alpha + c\n",
    "    ll = ll.sum()\n",
    "    return -ll\n",
    "\n",
    "\n",
    "def dldbeta(y, x, beta):\n",
    "    dbdtheta = mu = inverse_link(eta(x, beta))\n",
    "    alpha = 1\n",
    "    grad = (1 / alpha) * x.T @ (dbdtheta - y)\n",
    "    return grad / len(y)\n",
    "    \n",
    "\n",
    "assert 1.35 < minus_log_liklihood(np.array([1, 0]), np.array([0.5, 0.5])) < 1.4\n",
    "assert 0 <= minus_log_liklihood(np.array([1, 0]), np.array([1, 0]))\n",
    "assert minus_log_liklihood(np.array([1, 0]), np.array([0, 1])) > 20"
   ]
  },
  {
   "cell_type": "code",
   "execution_count": 236,
   "id": "a1a083ec-5a4c-4ddb-a73d-4cbaecc7ba0e",
   "metadata": {},
   "outputs": [
    {
     "data": {
      "application/vnd.jupyter.widget-view+json": {
       "model_id": "ae1cac3fb75e4fa396a1d9c124b503c5",
       "version_major": 2,
       "version_minor": 0
      },
      "text/plain": [
       "  0%|          | 0/1500 [00:00<?, ?it/s]"
      ]
     },
     "metadata": {},
     "output_type": "display_data"
    },
    {
     "name": "stdout",
     "output_type": "stream",
     "text": [
      "[2.27379179]\n"
     ]
    },
    {
     "data": {
      "image/png": "[encoded data removed]",
      "text/plain": [
       "<Figure size 432x288 with 1 Axes>"
      ]
     },
     "metadata": {
      "needs_background": "light"
     },
     "output_type": "display_data"
    },
    {
     "name": "stdout",
     "output_type": "stream",
     "text": [
      "              precision    recall  f1-score   support\n",
      "\n",
      "           0       0.98      0.92      0.95       247\n",
      "           1       0.93      0.98      0.96       253\n",
      "\n",
      "    accuracy                           0.95       500\n",
      "   macro avg       0.96      0.95      0.95       500\n",
      "weighted avg       0.96      0.95      0.95       500\n",
      "\n"
     ]
    }
   ],
   "source": [
    "def gradient_descent_step(y, x, beta, learning_rate=0.01):\n",
    "    \"\"\"Apply a gradient descent step.\"\"\"\n",
    "    new_beta = beta - learning_rate * dldbeta(y, x, beta)\n",
    "    mu = inverse_link(eta(x, beta))\n",
    "    loss = minus_log_liklihood(y, mu)\n",
    "    \n",
    "    return new_beta, loss\n",
    "\n",
    "\n",
    "def run_gradient_descent(\n",
    "    y, x, beta, learning_rate=0.01, n_steps=1000000\n",
    "):\n",
    "    \"\"\"Run the gradient descent loop.\"\"\"\n",
    "    mu_init = inverse_link(eta(x, beta))\n",
    "    loss_init = minus_log_liklihood(y, mu_init)\n",
    "    loss_dict = {-1: loss_init}\n",
    "    \n",
    "    for i in tqdm.tqdm(range(n_steps)):\n",
    "        beta, loss = gradient_descent_step(y, x, beta, learning_rate=learning_rate)\n",
    "        loss_dict[i] = loss\n",
    "        \n",
    "    return beta, loss_dict\n",
    "\n",
    "\n",
    "x, y = make_classification(\n",
    "    n_samples=500,\n",
    "    n_features=1,\n",
    "    n_redundant=0,\n",
    "    n_informative=1,\n",
    "    n_clusters_per_class=1,\n",
    "    random_state=14\n",
    ")\n",
    "\n",
    "beta = np.zeros(x.shape[-1])\n",
    "\n",
    "\n",
    "final_beta, loss_dict = run_gradient_descent(y, x, beta, n_steps=1500)\n",
    "beta = final_beta\n",
    "print(final_beta)\n",
    "\n",
    "plt.plot(loss_dict.keys(), loss_dict.values())\n",
    "plt.show()\n",
    "plt.close()\n",
    "\n",
    "mu = inverse_link(eta(x, beta))\n",
    "y_pred = (mu > 0.5).astype(int)\n",
    "\n",
    "print(classification_report(y_true=y, y_pred=y_pred))"
   ]
  },
  {
   "cell_type": "code",
   "execution_count": 237,
   "id": "bdfb05e9-0ad5-4c46-ad8e-aef635e061bb",
   "metadata": {},
   "outputs": [
    {
     "data": {
      "image/png": "[encoded data removed]",
      "text/plain": [
       "<Figure size 432x288 with 1 Axes>"
      ]
     },
     "metadata": {
      "needs_background": "light"
     },
     "output_type": "display_data"
    }
   ],
   "source": [
    "plt.scatter(x, y, label='x vs labels', alpha=0.5, s=2)\n",
    "plt.scatter(x, mu, label='x vs preds', alpha=0.5, s=2)\n",
    "q = np.arange(start=x.min(), stop=x.max(), step=0.01)\n",
    "plt.scatter(q, inverse_link(beta * q), alpha=0.5, s=2)\n",
    "plt.show()\n",
    "plt.close()"
   ]
  },
  {
   "cell_type": "markdown",
   "id": "08dfa09f-230e-4eea-9e93-b48678fe1462",
   "metadata": {},
   "source": [
    "Here we can see the interplay of the link function and distribution.\n",
    "\n",
    "The distribution is choosing the errors in the ys, while the inverse_link is the mean of said dist."
   ]
  },
  {
   "cell_type": "code",
   "execution_count": 238,
   "id": "c593a957-034b-45fa-85ac-c85e9babc624",
   "metadata": {},
   "outputs": [
    {
     "data": {
      "text/plain": [
       "<matplotlib.collections.PathCollection at 0x7fa7edb8a670>"
      ]
     },
     "execution_count": 238,
     "metadata": {},
     "output_type": "execute_result"
    },
    {
     "data": {
      "image/png": "[encoded data removed]",
      "text/plain": [
       "<Figure size 432x288 with 1 Axes>"
      ]
     },
     "metadata": {
      "needs_background": "light"
     },
     "output_type": "display_data"
    }
   ],
   "source": [
    "n_samples = 500\n",
    "rng = np.random.RandomState(0)\n",
    "x = np.array([rng.uniform(low=-3, high=3) for _ in range(n_samples)])\n",
    "p = mu = inverse_link  # in this case\n",
    "y = np.array([rng.binomial(1, p(final_beta * i)) for i in x])\n",
    "plt.scatter(x, y)"
   ]
  },
  {
   "cell_type": "markdown",
   "id": "b227b48d-5d6a-4d6c-8705-72969dfee7c5",
   "metadata": {},
   "source": [
    "# Poission"
   ]
  },
  {
   "cell_type": "code",
   "execution_count": 239,
   "id": "68511ffc-da86-454d-9f4c-7b0f16ae7067",
   "metadata": {},
   "outputs": [],
   "source": [
    "from scipy.special import factorial\n",
    "\n",
    "def eta(x, beta):\n",
    "    \"\"\"Linear predictors.\n",
    "    \n",
    "    x: (n_samples, n_features)\n",
    "    beta: (n_features, )\n",
    "    \n",
    "    return: (n_samples, )\n",
    "    \n",
    "    \"\"\"\n",
    "    return x @ beta.T\n",
    "    \n",
    "\n",
    "def link(mu):\n",
    "    \"\"\"Link function.\"\"\"\n",
    "    return reg_log(mu)\n",
    "\n",
    "\n",
    "def inverse_link(eta):  # = mu\n",
    "    return np.exp(eta)\n",
    "\n",
    "\n",
    "def minus_log_liklihood(y, mu):\n",
    "    \"\"\"Compute the log loss.\n",
    "\n",
    "    y_true: (n_samples, )\n",
    "    y_pred: (n_samples, )\n",
    "    \"\"\"\n",
    "    alpha = 1\n",
    "    theta = reg_log(mu)\n",
    "    b = mu\n",
    "    c = 0  # -reg_log(factorial(y))\n",
    "    ll = (y * theta - b) / alpha + c\n",
    "    ll = ll.sum()\n",
    "    return -ll\n",
    "\n",
    "\n",
    "def dldbeta(y, x, beta):\n",
    "    dbdtheta = mu = inverse_link(eta(x, beta))\n",
    "    alpha = 1\n",
    "    grad = (1 / alpha) * x.T @ (dbdtheta - y)\n",
    "    return grad / len(y)"
   ]
  },
  {
   "cell_type": "code",
   "execution_count": 240,
   "id": "f3712cc1-4cd5-42d9-95bc-b5cb79727beb",
   "metadata": {},
   "outputs": [
    {
     "data": {
      "image/png": "[encoded data removed]",
      "text/plain": [
       "<Figure size 432x288 with 1 Axes>"
      ]
     },
     "metadata": {
      "needs_background": "light"
     },
     "output_type": "display_data"
    }
   ],
   "source": [
    "n_samples = 500\n",
    "beta_to_find = 3\n",
    "rng = np.random.RandomState(0)\n",
    "x = np.array([rng.uniform(low=0, high=1) for _ in range(n_samples)])\n",
    "lam = mu = inverse_link  # in this case\n",
    "y = np.array([rng.poisson(lam(beta_to_find * i)) for i in x])\n",
    "\n",
    "plt.scatter(x, y)\n",
    "plt.show()\n",
    "plt.close()\n",
    "\n",
    "x = x.reshape(-1, 1)"
   ]
  },
  {
   "cell_type": "code",
   "execution_count": 241,
   "id": "7baa6523-9879-4d94-9eb1-9b92046d5c00",
   "metadata": {},
   "outputs": [
    {
     "data": {
      "application/vnd.jupyter.widget-view+json": {
       "model_id": "2d857c0ec6424249af02f9d75c4278ff",
       "version_major": 2,
       "version_minor": 0
      },
      "text/plain": [
       "  0%|          | 0/1500 [00:00<?, ?it/s]"
      ]
     },
     "metadata": {},
     "output_type": "display_data"
    },
    {
     "name": "stdout",
     "output_type": "stream",
     "text": [
      "[2.98282361]\n"
     ]
    },
    {
     "data": {
      "image/png": "[encoded data removed]",
      "text/plain": [
       "<Figure size 432x288 with 1 Axes>"
      ]
     },
     "metadata": {
      "needs_background": "light"
     },
     "output_type": "display_data"
    }
   ],
   "source": [
    "def gradient_descent_step(y, x, beta, learning_rate=0.01):\n",
    "    \"\"\"Apply a gradient descent step.\"\"\"\n",
    "    new_beta = beta - learning_rate * dldbeta(y, x, beta)\n",
    "    mu = inverse_link(eta(x, beta))\n",
    "    loss = minus_log_liklihood(y, mu)\n",
    "    \n",
    "    return new_beta, loss\n",
    "\n",
    "\n",
    "def run_gradient_descent(\n",
    "    y, x, beta, learning_rate=0.01, n_steps=1000000\n",
    "):\n",
    "    \"\"\"Run the gradient descent loop.\"\"\"\n",
    "    mu_init = inverse_link(eta(x, beta))\n",
    "    loss_init = minus_log_liklihood(y, mu_init)\n",
    "    loss_dict = {-1: loss_init}\n",
    "    \n",
    "    for i in tqdm.tqdm(range(n_steps)):\n",
    "        beta, loss = gradient_descent_step(y, x, beta, learning_rate=learning_rate)\n",
    "        loss_dict[i] = loss\n",
    "        \n",
    "    return beta, loss_dict\n",
    "\n",
    "\n",
    "beta = np.zeros(x.shape[-1])\n",
    "\n",
    "\n",
    "final_beta, loss_dict = run_gradient_descent(y, x, beta, n_steps=1500)\n",
    "beta = final_beta\n",
    "print(final_beta)\n",
    "\n",
    "plt.plot(loss_dict.keys(), loss_dict.values())\n",
    "plt.show()\n",
    "plt.close()\n",
    "\n",
    "mu = inverse_link(eta(x, beta))\n",
    "y_pred = (mu > 0.5).astype(int)"
   ]
  },
  {
   "cell_type": "code",
   "execution_count": 242,
   "id": "f04f6f96-4f05-4436-a1dd-04b9d5b3e4d9",
   "metadata": {},
   "outputs": [
    {
     "data": {
      "text/plain": [
       "<matplotlib.collections.PathCollection at 0x7fa7ed026430>"
      ]
     },
     "execution_count": 242,
     "metadata": {},
     "output_type": "execute_result"
    },
    {
     "data": {
      "image/png": "[encoded data removed]",
      "text/plain": [
       "<Figure size 432x288 with 1 Axes>"
      ]
     },
     "metadata": {
      "needs_background": "light"
     },
     "output_type": "display_data"
    }
   ],
   "source": [
    "plt.scatter(x, y)\n",
    "plt.scatter(x, mu)"
   ]
  },
  {
   "cell_type": "code",
   "execution_count": null,
   "id": "ccaebf57-5cad-41ed-8095-2a886470ad13",
   "metadata": {},
   "outputs": [],
   "source": []
  }
 ],
 "metadata": {
  "kernelspec": {
   "display_name": "dev",
   "language": "python",
   "name": "dev"
  },
  "language_info": {
   "codemirror_mode": {
    "name": "ipython",
    "version": 3
   },
   "file_extension": ".py",
   "mimetype": "text/x-python",
   "name": "python",
   "nbconvert_exporter": "python",
   "pygments_lexer": "ipython3",
   "version": "3.8.10"
  }
 },
 "nbformat": 4,
 "nbformat_minor": 5
}
