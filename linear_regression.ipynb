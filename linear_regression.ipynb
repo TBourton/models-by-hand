{
 "cells": [
  {
   "cell_type": "code",
   "execution_count": 2,
   "id": "46e9d930-b21c-48b7-bae3-4183415766fe",
   "metadata": {},
   "outputs": [],
   "source": [
    "import numpy as np\n",
    "import tqdm.notebook as tqdm\n",
    "from sklearn.datasets import make_regression\n",
    "import matplotlib.pyplot as plt\n",
    "from sklearn.preprocessing import StandardScaler"
   ]
  },
  {
   "cell_type": "code",
   "execution_count": 3,
   "id": "f282e524-2480-4bb2-b071-26ffc6b94538",
   "metadata": {},
   "outputs": [],
   "source": [
    "def model(x, beta, b=0):\n",
    "    \"\"\"This is our regression model.\n",
    "    \n",
    "    x: (n_samples, n_features)\n",
    "    beta: (n_features, )\n",
    "    b: (1, )\n",
    "    # c: (n_features, )\n",
    "    \n",
    "    return: (n_samples, )\n",
    "    \n",
    "    \"\"\"\n",
    "    return x @ beta.T + b\n",
    "    \n",
    "    \n",
    "def mse(*, y_true, y_pred):\n",
    "    \"\"\"Compute the log loss.\n",
    "\n",
    "    y_true: (n_samples, )\n",
    "    y_pred: (n_samples, )\n",
    "    \"\"\"\n",
    "    residual = y_true - y_pred\n",
    "    \n",
    "    return np.dot(residual, residual) / (len(residual))\n",
    "\n",
    "\n",
    "loss_fn = mse"
   ]
  },
  {
   "cell_type": "code",
   "execution_count": 4,
   "id": "ded47a47-913d-4070-9306-68a645c96636",
   "metadata": {},
   "outputs": [],
   "source": [
    "def beta_loss_gradient(y_true, x, beta, b):\n",
    "    \"\"\"Compute the value of the dloss/dbeta\"\"\"\n",
    "    m = len(y_true)\n",
    "    h = model(x, beta)\n",
    "    y = y_true\n",
    "    \n",
    "    return (2 / m) * (x.T @ (h - y))\n",
    "\n",
    "\n",
    "def b_loss_gradient(y_true, x, beta, b):\n",
    "    \"\"\"Compute the value of the dloss/dbeta\"\"\"\n",
    "    m = len(y_true)\n",
    "    h = model(x, beta)\n",
    "    y = y_true\n",
    "    \n",
    "    return (2 / m) * (h - y).sum()"
   ]
  },
  {
   "cell_type": "code",
   "execution_count": 14,
   "id": "b308cad3-7947-4d47-a7a0-9a950e98c17b",
   "metadata": {},
   "outputs": [],
   "source": [
    "def gradient_descent_step(y_true, x, beta, b, learning_rate=0.01):\n",
    "    new_beta = beta - learning_rate * beta_loss_gradient(y_true, x, beta, b)\n",
    "    new_b = b - learning_rate * b_loss_gradient(y_true, x, beta, b)\n",
    "    y_pred = model(x, new_beta, new_b)\n",
    "    loss = loss_fn(y_true=y_true, y_pred=y_pred)\n",
    "    \n",
    "    return new_beta, new_b, loss\n",
    "\n",
    "\n",
    "def run_gradient_descent(\n",
    "    y_true, x, beta_init, b_init=0, learning_rate=0.1, n_steps=1000000\n",
    "):\n",
    "    \"\"\"Run the gradient descent loop.\"\"\"\n",
    "    loss_dict = {-1: loss_fn(y_true=y_true, y_pred=model(x, beta_init))}\n",
    "    \n",
    "    beta = beta_init\n",
    "    b = b_init\n",
    "    for i in tqdm.tqdm(range(n_steps)):\n",
    "        beta, b, loss = gradient_descent_step(y_true, x, beta, b, learning_rate=learning_rate)\n",
    "        loss_dict[i] = loss\n",
    "        \n",
    "    return beta, b, loss_dict"
   ]
  },
  {
   "cell_type": "code",
   "execution_count": 18,
   "id": "6194a20f-88f0-4f36-98ff-f30ea29a2363",
   "metadata": {},
   "outputs": [
    {
     "data": {
      "application/vnd.jupyter.widget-view+json": {
       "model_id": "d90a2e6eb9f34ca0ab37d3d854d2b40d",
       "version_major": 2,
       "version_minor": 0
      },
      "text/plain": [
       "  0%|          | 0/100 [00:00<?, ?it/s]"
      ]
     },
     "metadata": {},
     "output_type": "display_data"
    },
    {
     "name": "stdout",
     "output_type": "stream",
     "text": [
      "[63.31742648] 8.833557201879328\n"
     ]
    }
   ],
   "source": [
    "x, y = make_regression(n_samples=500, random_state=42, n_features=1, n_informative=1)\n",
    "x = StandardScaler().fit_transform(x)\n",
    "\n",
    "beta = np.zeros(x.shape[-1])\n",
    "b = 0\n",
    "\n",
    "beta, b, loss_dict = run_gradient_descent(y, x, beta, b, n_steps=100)\n",
    "y_pred = model(x, beta)\n",
    "print(beta, b)"
   ]
  },
  {
   "cell_type": "code",
   "execution_count": 16,
   "id": "ae8a98d5-9f5c-47de-b78e-40ced1b8dfda",
   "metadata": {},
   "outputs": [
    {
     "data": {
      "image/png": "[encoded data removed]",
      "text/plain": [
       "<Figure size 432x288 with 1 Axes>"
      ]
     },
     "metadata": {
      "needs_background": "light"
     },
     "output_type": "display_data"
    }
   ],
   "source": [
    "plt.plot(loss_dict.keys(), loss_dict.values())\n",
    "plt.show()\n",
    "plt.close()"
   ]
  },
  {
   "cell_type": "code",
   "execution_count": 17,
   "id": "c7533a62-ffbc-4000-a1db-70f07181517a",
   "metadata": {},
   "outputs": [
    {
     "data": {
      "image/png": "[encoded data removed]",
      "text/plain": [
       "<Figure size 432x288 with 1 Axes>"
      ]
     },
     "metadata": {
      "needs_background": "light"
     },
     "output_type": "display_data"
    }
   ],
   "source": [
    "plt.scatter(x[:, 0], y, c='red')\n",
    "plt.scatter(x[:, 0], y_pred, c='blue', alpha=0.2)\n",
    "plt.show()\n",
    "plt.close()"
   ]
  },
  {
   "cell_type": "code",
   "execution_count": 19,
   "id": "32e6db04-3a7a-46d5-aac9-44b2c7e2b986",
   "metadata": {},
   "outputs": [
    {
     "data": {
      "text/plain": [
       "0.9999513408240027"
      ]
     },
     "execution_count": 19,
     "metadata": {},
     "output_type": "execute_result"
    }
   ],
   "source": [
    "def RSS(*, y_true, y_pred):\n",
    "    residual = y_pred - y_true\n",
    "    return np.dot(residual, residual)\n",
    "\n",
    "\n",
    "def TSS(*, y_true):\n",
    "    x = y_true - np.mean(y_true)\n",
    "    return np.dot(x, x)\n",
    "\n",
    "\n",
    "def R2(*, y_true, y_pred):\n",
    "    return 1 - (RSS(y_true=y_true, y_pred=y_pred) / TSS(y_true=y_true))\n",
    "\n",
    "\n",
    "R2(y_pred=y_pred, y_true=y)"
   ]
  },
  {
   "cell_type": "code",
   "execution_count": 20,
   "id": "3725c079-5eb2-4fd3-898b-2dfa3e3c794f",
   "metadata": {},
   "outputs": [
    {
     "data": {
      "text/plain": [
       "0.19507933209718564"
      ]
     },
     "execution_count": 20,
     "metadata": {},
     "output_type": "execute_result"
    }
   ],
   "source": [
    "mse(y_pred=y_pred, y_true=y)"
   ]
  },
  {
   "cell_type": "code",
   "execution_count": null,
   "id": "e411799f-4987-43e9-9662-1502bdd90d08",
   "metadata": {},
   "outputs": [],
   "source": []
  }
 ],
 "metadata": {
  "kernelspec": {
   "display_name": "dev",
   "language": "python",
   "name": "dev"
  },
  "language_info": {
   "codemirror_mode": {
    "name": "ipython",
    "version": 3
   },
   "file_extension": ".py",
   "mimetype": "text/x-python",
   "name": "python",
   "nbconvert_exporter": "python",
   "pygments_lexer": "ipython3",
   "version": "3.8.10"
  }
 },
 "nbformat": 4,
 "nbformat_minor": 5
}
