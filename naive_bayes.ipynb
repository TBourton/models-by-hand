{
 "cells": [
  {
   "cell_type": "code",
   "execution_count": 125,
   "id": "46e9d930-b21c-48b7-bae3-4183415766fe",
   "metadata": {},
   "outputs": [],
   "source": [
    "import numpy as np\n",
    "import tqdm.notebook as tqdm\n",
    "from sklearn.metrics import classification_report\n",
    "import matplotlib.pyplot as plt\n",
    "from sklearn.preprocessing import KBinsDiscretizer\n",
    "from sklearn.model_selection import train_test_split\n",
    "import tqdm.notebook as tqdm\n",
    "\n",
    "import warnings\n",
    "warnings.filterwarnings('ignore') "
   ]
  },
  {
   "cell_type": "code",
   "execution_count": 126,
   "id": "db3909ea-87ae-4e9d-bcbd-673242f33f0f",
   "metadata": {},
   "outputs": [],
   "source": [
    "from sklearn.datasets import fetch_covtype\n",
    "x, y = fetch_covtype(return_X_y=True)\n",
    "x = KBinsDiscretizer(encode='onehot-dense').fit_transform(x)\n",
    "\n",
    "x, x_test, y, y_test = train_test_split(x, y, random_state=42, stratify=y)"
   ]
  },
  {
   "cell_type": "code",
   "execution_count": 102,
   "id": "8908c3f3-ce10-4e0f-9b72-b99704518462",
   "metadata": {},
   "outputs": [],
   "source": [
    "class NBC:\n",
    "    \"\"\"Naive Bayes Classifier.\"\"\"\n",
    "\n",
    "    def __init__(self):\n",
    "        \"\"\"Get a new classifier.\"\"\"\n",
    "        self._is_fit = False\n",
    "        self.priors = None\n",
    "        self.likelihoods = None\n",
    "        self.classes = None\n",
    "\n",
    "\n",
    "    def fit(self, x, y, reg=1.0):\n",
    "        \"\"\"Fit the model.\"\"\"\n",
    "        self.classes = classes = np.unique(y)\n",
    "        self.priors = [(y == c).sum() / len(y) for c in classes]\n",
    "        \n",
    "        x_by_class = [x[y == c] for c in classes]\n",
    "        counts = np.array([q.sum(axis=0) for q in x_by_class]) + reg\n",
    "        self.likelihoods = counts / counts.sum(axis=1).reshape(-1, 1)  # P(x_i | y)\n",
    "        self._is_fit = True\n",
    "        return self\n",
    "        \n",
    "    def _predict_item(self, x):\n",
    "        if not self._is_fit:\n",
    "            raise RuntimeError(\"Model not fit.\")\n",
    "\n",
    "        probs = (likelihoods ** x).prod(axis=1) * priors\n",
    "        probs = probs / probs.sum().reshape(-1, 1)\n",
    "        return probs\n",
    "        \n",
    "    def predict(self, x):\n",
    "        return np.vstack([self._predict_item(q) for q in tqdm.tqdm(x)])"
   ]
  },
  {
   "cell_type": "code",
   "execution_count": 103,
   "id": "972cc7c0-c3f1-40bf-93f2-9eb6c9cd9e02",
   "metadata": {},
   "outputs": [],
   "source": [
    "clf = NBC().fit(x, y)"
   ]
  },
  {
   "cell_type": "code",
   "execution_count": 123,
   "id": "7b51e2d1-cd15-43ad-9286-6abee0cfd896",
   "metadata": {},
   "outputs": [
    {
     "data": {
      "application/vnd.jupyter.widget-view+json": {
       "model_id": "c8226494a34442cdbb705a0efdbf3561",
       "version_major": 2,
       "version_minor": 0
      },
      "text/plain": [
       "  0%|          | 0/435759 [00:00<?, ?it/s]"
      ]
     },
     "metadata": {},
     "output_type": "display_data"
    }
   ],
   "source": [
    "pred = clf.predict(x)\n",
    "pred = pred.argmax(axis=1)\n",
    "print(classification_report(y_true=y, y_pred=pred))"
   ]
  },
  {
   "cell_type": "code",
   "execution_count": null,
   "id": "32e6db04-3a7a-46d5-aac9-44b2c7e2b986",
   "metadata": {},
   "outputs": [],
   "source": []
  }
 ],
 "metadata": {
  "kernelspec": {
   "display_name": "dev",
   "language": "python",
   "name": "dev"
  },
  "language_info": {
   "codemirror_mode": {
    "name": "ipython",
    "version": 3
   },
   "file_extension": ".py",
   "mimetype": "text/x-python",
   "name": "python",
   "nbconvert_exporter": "python",
   "pygments_lexer": "ipython3",
   "version": "3.8.10"
  }
 },
 "nbformat": 4,
 "nbformat_minor": 5
}
