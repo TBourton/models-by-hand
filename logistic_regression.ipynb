{
 "cells": [
  {
   "cell_type": "code",
   "execution_count": 1,
   "id": "46e9d930-b21c-48b7-bae3-4183415766fe",
   "metadata": {},
   "outputs": [],
   "source": [
    "import numpy as np\n",
    "import tqdm.notebook as tqdm\n",
    "from sklearn.datasets import make_classification\n",
    "from sklearn.metrics import classification_report\n",
    "import matplotlib.pyplot as plt"
   ]
  },
  {
   "cell_type": "code",
   "execution_count": 1,
   "id": "1df5c0a1-e000-49e7-8f88-bd746bdaf02b",
   "metadata": {},
   "outputs": [],
   "source": [
    "def sigmoid(x):\n",
    "    \"\"\"Compute sigmoid.\"\"\"\n",
    "    return 1 / (1 + np.exp(-x))\n",
    "\n",
    "\n",
    "def model(x, beta):\n",
    "    \"\"\"This is our Logistic Regression model.\n",
    "    \n",
    "    x: (n_samples, n_features)\n",
    "    beta: (n_features, )\n",
    "    \n",
    "    \"\"\"\n",
    "    return sigmoid(x @ beta.T)"
   ]
  },
  {
   "cell_type": "code",
   "execution_count": 2,
   "id": "f282e524-2480-4bb2-b071-26ffc6b94538",
   "metadata": {},
   "outputs": [],
   "source": [
    "def reg_log(x, epsilon: float = 1e-5):\n",
    "    \"\"\"Compute a regularised log.\"\"\"\n",
    "    return np.log(x + epsilon)\n",
    "\n",
    "\n",
    "def log_loss(*, y_true, y_pred):\n",
    "    \"\"\"Compute the log loss.\n",
    "\n",
    "    y_true: (n_samples, )\n",
    "    y_pred: (n_samples, )\n",
    "\n",
    "    \"\"\"\n",
    "    y = y_true\n",
    "    s = y_pred\n",
    "    m = len(y)\n",
    "    assert s.shape == y.shape\n",
    "    return (np.dot(y, reg_log(1 / s)) + np.dot((1 - y), reg_log(1 / (1 - s)))) / m"
   ]
  },
  {
   "cell_type": "code",
   "execution_count": 4,
   "id": "b308cad3-7947-4d47-a7a0-9a950e98c17b",
   "metadata": {},
   "outputs": [],
   "source": [
    "def loss_gradient(y_true, x, beta):\n",
    "    \"\"\"Compute the value of the dloss/dbeta.\"\"\"\n",
    "    m = len(y_true)\n",
    "    s = model(x, beta)\n",
    "    \n",
    "    return (1 / m) * (x.T @ (s - y))\n",
    "\n",
    "\n",
    "def gradient_descent_step(y_true, x, beta, learning_rate=0.01):\n",
    "    \"\"\"Apply a gradient descent step.\"\"\"\n",
    "    new_beta = beta - learning_rate * loss_gradient(y_true, x, beta)\n",
    "    y_pred = model(x, new_beta)\n",
    "    loss = log_loss(y_true=y_true, y_pred=y_pred)\n",
    "    \n",
    "    return new_beta, loss\n",
    "\n",
    "\n",
    "def run_gradient_descent(\n",
    "    y_true, x, beta_init, learning_rate=0.01, n_steps=1000000\n",
    "):\n",
    "    \"\"\"Run the gradient descent loop.\"\"\"\n",
    "    loss_dict = {-1: log_loss(y_true=y_true, y_pred=model(x, beta_init))}\n",
    "    \n",
    "    beta = beta_init\n",
    "    for i in tqdm.tqdm(range(n_steps)):\n",
    "        beta, loss = gradient_descent_step(y_true, x, beta, learning_rate=learning_rate)\n",
    "        loss_dict[i] = loss\n",
    "        \n",
    "    return beta, loss_dict"
   ]
  },
  {
   "cell_type": "code",
   "execution_count": 5,
   "id": "6194a20f-88f0-4f36-98ff-f30ea29a2363",
   "metadata": {},
   "outputs": [
    {
     "data": {
      "application/vnd.jupyter.widget-view+json": {
       "model_id": "863d429a6798471f8844a66136658da1",
       "version_major": 2,
       "version_minor": 0
      },
      "text/plain": [
       "  0%|          | 0/1500 [00:00<?, ?it/s]"
      ]
     },
     "metadata": {},
     "output_type": "display_data"
    }
   ],
   "source": [
    "x, y = make_classification(\n",
    "    n_samples=500,\n",
    "    n_features=2,\n",
    "    n_redundant=0,\n",
    "    n_informative=1,\n",
    "    n_clusters_per_class=1,\n",
    "    random_state=14\n",
    ")\n",
    "\n",
    "beta = np.zeros(x.shape[-1])\n",
    "\n",
    "y_pred = model(x, beta)\n",
    "final_beta, loss_dict = run_gradient_descent(y, x, beta, n_steps=1500)\n",
    "\n",
    "print(final_beta)\n",
    "\n",
    "plt.plot(loss_dict.keys(), loss_dict.values())\n",
    "plt.show()\n",
    "plt.close()\n",
    "\n",
    "y_pred = model(x, final_beta)\n",
    "y_pred = (y_pred > 0.5).astype(int)\n",
    "\n",
    "print(classification_report(y_true=y, y_pred=y_pred))"
   ]
  },
  {
   "cell_type": "code",
   "execution_count": 8,
   "id": "a097855c-71ad-41fa-ad26-fb41b1cbf085",
   "metadata": {},
   "outputs": [
    {
     "name": "stdout",
     "output_type": "stream",
     "text": [
      "              precision    recall  f1-score   support\n",
      "\n",
      "           0       0.99      0.91      0.95       254\n",
      "           1       0.91      0.99      0.95       246\n",
      "\n",
      "    accuracy                           0.95       500\n",
      "   macro avg       0.95      0.95      0.95       500\n",
      "weighted avg       0.95      0.95      0.95       500\n",
      "\n"
     ]
    }
   ],
   "source": []
  },
  {
   "cell_type": "code",
   "execution_count": null,
   "id": "32e6db04-3a7a-46d5-aac9-44b2c7e2b986",
   "metadata": {},
   "outputs": [],
   "source": []
  }
 ],
 "metadata": {
  "kernelspec": {
   "display_name": "dev",
   "language": "python",
   "name": "dev"
  },
  "language_info": {
   "codemirror_mode": {
    "name": "ipython",
    "version": 3
   },
   "file_extension": ".py",
   "mimetype": "text/x-python",
   "name": "python",
   "nbconvert_exporter": "python",
   "pygments_lexer": "ipython3",
   "version": "3.8.10"
  }
 },
 "nbformat": 4,
 "nbformat_minor": 5
}
